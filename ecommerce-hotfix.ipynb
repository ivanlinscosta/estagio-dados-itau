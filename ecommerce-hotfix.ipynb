{
  "nbformat": 4,
  "nbformat_minor": 0,
  "metadata": {
    "colab": {
      "provenance": [],
      "authorship_tag": "ABX9TyMRjDVbyXfLiCF6pEG/tMDh",
      "include_colab_link": true
    },
    "kernelspec": {
      "name": "python3",
      "display_name": "Python 3"
    },
    "language_info": {
      "name": "python"
    }
  },
  "cells": [
    {
      "cell_type": "markdown",
      "metadata": {
        "id": "view-in-github",
        "colab_type": "text"
      },
      "source": [
        "<a href=\"https://colab.research.google.com/github/RVCoelho/Teste_Itau_estagio/blob/main/ecommerce-hotfix.ipynb\" target=\"_parent\"><img src=\"https://colab.research.google.com/assets/colab-badge.svg\" alt=\"Open In Colab\"/></a>"
      ]
    },
    {
      "cell_type": "markdown",
      "source": [
        "Autor: Ricardo Veiga Coelho\n",
        "email: rvcoelho0@gmail.com\n",
        "CPF: 449.152.598.62"
      ],
      "metadata": {
        "id": "nMmTsWv2N8A6"
      }
    },
    {
      "cell_type": "code",
      "source": [
        "#escolha o arquivo \"Ecommerce_DBS.csv\" baixado em https://www.kaggle.com/datasets/raziehghahartars/ecommerce/data\n",
        "from google.colab import files\n",
        "uploaded = files.upload()"
      ],
      "metadata": {
        "colab": {
          "base_uri": "https://localhost:8080/",
          "height": 93
        },
        "id": "iKcEd51nPVWl",
        "outputId": "4cfb969b-9323-48f5-de73-8b9cfcc297f8"
      },
      "execution_count": 498,
      "outputs": [
        {
          "output_type": "display_data",
          "data": {
            "text/plain": [
              "<IPython.core.display.HTML object>"
            ],
            "text/html": [
              "\n",
              "     <input type=\"file\" id=\"files-862990df-0537-41e0-8090-9aac1aaceff8\" name=\"files[]\" multiple disabled\n",
              "        style=\"border:none\" />\n",
              "     <output id=\"result-862990df-0537-41e0-8090-9aac1aaceff8\">\n",
              "      Upload widget is only available when the cell has been executed in the\n",
              "      current browser session. Please rerun this cell to enable.\n",
              "      </output>\n",
              "      <script>// Copyright 2017 Google LLC\n",
              "//\n",
              "// Licensed under the Apache License, Version 2.0 (the \"License\");\n",
              "// you may not use this file except in compliance with the License.\n",
              "// You may obtain a copy of the License at\n",
              "//\n",
              "//      http://www.apache.org/licenses/LICENSE-2.0\n",
              "//\n",
              "// Unless required by applicable law or agreed to in writing, software\n",
              "// distributed under the License is distributed on an \"AS IS\" BASIS,\n",
              "// WITHOUT WARRANTIES OR CONDITIONS OF ANY KIND, either express or implied.\n",
              "// See the License for the specific language governing permissions and\n",
              "// limitations under the License.\n",
              "\n",
              "/**\n",
              " * @fileoverview Helpers for google.colab Python module.\n",
              " */\n",
              "(function(scope) {\n",
              "function span(text, styleAttributes = {}) {\n",
              "  const element = document.createElement('span');\n",
              "  element.textContent = text;\n",
              "  for (const key of Object.keys(styleAttributes)) {\n",
              "    element.style[key] = styleAttributes[key];\n",
              "  }\n",
              "  return element;\n",
              "}\n",
              "\n",
              "// Max number of bytes which will be uploaded at a time.\n",
              "const MAX_PAYLOAD_SIZE = 100 * 1024;\n",
              "\n",
              "function _uploadFiles(inputId, outputId) {\n",
              "  const steps = uploadFilesStep(inputId, outputId);\n",
              "  const outputElement = document.getElementById(outputId);\n",
              "  // Cache steps on the outputElement to make it available for the next call\n",
              "  // to uploadFilesContinue from Python.\n",
              "  outputElement.steps = steps;\n",
              "\n",
              "  return _uploadFilesContinue(outputId);\n",
              "}\n",
              "\n",
              "// This is roughly an async generator (not supported in the browser yet),\n",
              "// where there are multiple asynchronous steps and the Python side is going\n",
              "// to poll for completion of each step.\n",
              "// This uses a Promise to block the python side on completion of each step,\n",
              "// then passes the result of the previous step as the input to the next step.\n",
              "function _uploadFilesContinue(outputId) {\n",
              "  const outputElement = document.getElementById(outputId);\n",
              "  const steps = outputElement.steps;\n",
              "\n",
              "  const next = steps.next(outputElement.lastPromiseValue);\n",
              "  return Promise.resolve(next.value.promise).then((value) => {\n",
              "    // Cache the last promise value to make it available to the next\n",
              "    // step of the generator.\n",
              "    outputElement.lastPromiseValue = value;\n",
              "    return next.value.response;\n",
              "  });\n",
              "}\n",
              "\n",
              "/**\n",
              " * Generator function which is called between each async step of the upload\n",
              " * process.\n",
              " * @param {string} inputId Element ID of the input file picker element.\n",
              " * @param {string} outputId Element ID of the output display.\n",
              " * @return {!Iterable<!Object>} Iterable of next steps.\n",
              " */\n",
              "function* uploadFilesStep(inputId, outputId) {\n",
              "  const inputElement = document.getElementById(inputId);\n",
              "  inputElement.disabled = false;\n",
              "\n",
              "  const outputElement = document.getElementById(outputId);\n",
              "  outputElement.innerHTML = '';\n",
              "\n",
              "  const pickedPromise = new Promise((resolve) => {\n",
              "    inputElement.addEventListener('change', (e) => {\n",
              "      resolve(e.target.files);\n",
              "    });\n",
              "  });\n",
              "\n",
              "  const cancel = document.createElement('button');\n",
              "  inputElement.parentElement.appendChild(cancel);\n",
              "  cancel.textContent = 'Cancel upload';\n",
              "  const cancelPromise = new Promise((resolve) => {\n",
              "    cancel.onclick = () => {\n",
              "      resolve(null);\n",
              "    };\n",
              "  });\n",
              "\n",
              "  // Wait for the user to pick the files.\n",
              "  const files = yield {\n",
              "    promise: Promise.race([pickedPromise, cancelPromise]),\n",
              "    response: {\n",
              "      action: 'starting',\n",
              "    }\n",
              "  };\n",
              "\n",
              "  cancel.remove();\n",
              "\n",
              "  // Disable the input element since further picks are not allowed.\n",
              "  inputElement.disabled = true;\n",
              "\n",
              "  if (!files) {\n",
              "    return {\n",
              "      response: {\n",
              "        action: 'complete',\n",
              "      }\n",
              "    };\n",
              "  }\n",
              "\n",
              "  for (const file of files) {\n",
              "    const li = document.createElement('li');\n",
              "    li.append(span(file.name, {fontWeight: 'bold'}));\n",
              "    li.append(span(\n",
              "        `(${file.type || 'n/a'}) - ${file.size} bytes, ` +\n",
              "        `last modified: ${\n",
              "            file.lastModifiedDate ? file.lastModifiedDate.toLocaleDateString() :\n",
              "                                    'n/a'} - `));\n",
              "    const percent = span('0% done');\n",
              "    li.appendChild(percent);\n",
              "\n",
              "    outputElement.appendChild(li);\n",
              "\n",
              "    const fileDataPromise = new Promise((resolve) => {\n",
              "      const reader = new FileReader();\n",
              "      reader.onload = (e) => {\n",
              "        resolve(e.target.result);\n",
              "      };\n",
              "      reader.readAsArrayBuffer(file);\n",
              "    });\n",
              "    // Wait for the data to be ready.\n",
              "    let fileData = yield {\n",
              "      promise: fileDataPromise,\n",
              "      response: {\n",
              "        action: 'continue',\n",
              "      }\n",
              "    };\n",
              "\n",
              "    // Use a chunked sending to avoid message size limits. See b/62115660.\n",
              "    let position = 0;\n",
              "    do {\n",
              "      const length = Math.min(fileData.byteLength - position, MAX_PAYLOAD_SIZE);\n",
              "      const chunk = new Uint8Array(fileData, position, length);\n",
              "      position += length;\n",
              "\n",
              "      const base64 = btoa(String.fromCharCode.apply(null, chunk));\n",
              "      yield {\n",
              "        response: {\n",
              "          action: 'append',\n",
              "          file: file.name,\n",
              "          data: base64,\n",
              "        },\n",
              "      };\n",
              "\n",
              "      let percentDone = fileData.byteLength === 0 ?\n",
              "          100 :\n",
              "          Math.round((position / fileData.byteLength) * 100);\n",
              "      percent.textContent = `${percentDone}% done`;\n",
              "\n",
              "    } while (position < fileData.byteLength);\n",
              "  }\n",
              "\n",
              "  // All done.\n",
              "  yield {\n",
              "    response: {\n",
              "      action: 'complete',\n",
              "    }\n",
              "  };\n",
              "}\n",
              "\n",
              "scope.google = scope.google || {};\n",
              "scope.google.colab = scope.google.colab || {};\n",
              "scope.google.colab._files = {\n",
              "  _uploadFiles,\n",
              "  _uploadFilesContinue,\n",
              "};\n",
              "})(self);\n",
              "</script> "
            ]
          },
          "metadata": {}
        },
        {
          "output_type": "stream",
          "name": "stdout",
          "text": [
            "Saving Ecommerce_DBS.csv to Ecommerce_DBS (1).csv\n"
          ]
        }
      ]
    },
    {
      "cell_type": "code",
      "execution_count": 499,
      "metadata": {
        "id": "vwFnY9YaNvOd"
      },
      "outputs": [],
      "source": [
        "#Imports que usarei\n",
        "import pandas as pd\n",
        "import statistics as st\n",
        "import matplotlib.pyplot as plt\n",
        "import seaborn as sns"
      ]
    },
    {
      "cell_type": "code",
      "source": [
        "db = pd.read_csv('Ecommerce_DBS.csv')"
      ],
      "metadata": {
        "id": "EwvBq86_Oikn"
      },
      "execution_count": 500,
      "outputs": []
    },
    {
      "cell_type": "code",
      "source": [
        "#Visualizando colunas para remover as desnecessárias\n",
        "db.info()"
      ],
      "metadata": {
        "colab": {
          "base_uri": "https://localhost:8080/"
        },
        "id": "4sT8iobWvOOj",
        "outputId": "94b463b6-c3fd-4d0d-e008-35591edecc82"
      },
      "execution_count": 501,
      "outputs": [
        {
          "output_type": "stream",
          "name": "stdout",
          "text": [
            "<class 'pandas.core.frame.DataFrame'>\n",
            "RangeIndex: 250000 entries, 0 to 249999\n",
            "Data columns (total 14 columns):\n",
            " #   Column                 Non-Null Count   Dtype  \n",
            "---  ------                 --------------   -----  \n",
            " 0   Customer ID            250000 non-null  int64  \n",
            " 1   Purchase Date          250000 non-null  object \n",
            " 2   Product Category       250000 non-null  object \n",
            " 3   Product Price          250000 non-null  int64  \n",
            " 4   Quantity               250000 non-null  int64  \n",
            " 5   Total Purchase Amount  250000 non-null  int64  \n",
            " 6   NPS                    250000 non-null  int64  \n",
            " 7   Customer Age           250000 non-null  int64  \n",
            " 8   Gender                 250000 non-null  object \n",
            " 9   Source                 250000 non-null  object \n",
            " 10  Country                250000 non-null  object \n",
            " 11  State                  250000 non-null  object \n",
            " 12  Latitude               250000 non-null  float64\n",
            " 13  Longituide             250000 non-null  float64\n",
            "dtypes: float64(2), int64(6), object(6)\n",
            "memory usage: 26.7+ MB\n"
          ]
        }
      ]
    },
    {
      "cell_type": "code",
      "source": [
        "#checando categorias da base de dados\n",
        "db['Product Category'].unique()"
      ],
      "metadata": {
        "colab": {
          "base_uri": "https://localhost:8080/"
        },
        "id": "9aslgyDVFl5Q",
        "outputId": "042ca3b4-a8ed-4a02-fb4d-27489555f60d"
      },
      "execution_count": 502,
      "outputs": [
        {
          "output_type": "execute_result",
          "data": {
            "text/plain": [
              "array(['Electronics', 'Home', 'Clothing', 'Books'], dtype=object)"
            ]
          },
          "metadata": {},
          "execution_count": 502
        }
      ]
    },
    {
      "cell_type": "markdown",
      "source": [
        "# Limpeza de dados"
      ],
      "metadata": {
        "id": "0prW0TkAFaL7"
      }
    },
    {
      "cell_type": "code",
      "source": [
        "#Removendo colunas desnecessárias\n",
        "db.drop(columns=['Purchase Date', 'Country', 'State', 'Latitude', 'Longituide'], axis=1, inplace=True)\n",
        "\n",
        "#Removendo linhas com missing values\n",
        "db.dropna(inplace=True)\n",
        "\n",
        "db = db.drop_duplicates()"
      ],
      "metadata": {
        "id": "ZQ_7lyR3Uob9"
      },
      "execution_count": 503,
      "outputs": []
    },
    {
      "cell_type": "markdown",
      "source": [
        "Renomeação de colunas"
      ],
      "metadata": {
        "id": "zOfFyYTeFghQ"
      }
    },
    {
      "cell_type": "code",
      "source": [
        "db.columns = db.columns.str.lower().str.replace(' ', '_').str.rstrip('_')\n",
        "db.info()"
      ],
      "metadata": {
        "id": "T5hiHn4EOrAw",
        "colab": {
          "base_uri": "https://localhost:8080/"
        },
        "outputId": "d6f94372-55db-4e75-a13b-f8637e719fcb"
      },
      "execution_count": 504,
      "outputs": [
        {
          "output_type": "stream",
          "name": "stdout",
          "text": [
            "<class 'pandas.core.frame.DataFrame'>\n",
            "RangeIndex: 250000 entries, 0 to 249999\n",
            "Data columns (total 9 columns):\n",
            " #   Column                 Non-Null Count   Dtype \n",
            "---  ------                 --------------   ----- \n",
            " 0   customer_id            250000 non-null  int64 \n",
            " 1   product_category       250000 non-null  object\n",
            " 2   product_price          250000 non-null  int64 \n",
            " 3   quantity               250000 non-null  int64 \n",
            " 4   total_purchase_amount  250000 non-null  int64 \n",
            " 5   nps                    250000 non-null  int64 \n",
            " 6   customer_age           250000 non-null  int64 \n",
            " 7   gender                 250000 non-null  object\n",
            " 8   source                 250000 non-null  object\n",
            "dtypes: int64(6), object(3)\n",
            "memory usage: 17.2+ MB\n"
          ]
        }
      ]
    },
    {
      "cell_type": "markdown",
      "source": [
        "Criação de faixas etárias"
      ],
      "metadata": {
        "id": "23CuseFLJ0sS"
      }
    },
    {
      "cell_type": "code",
      "source": [
        "bins = [18, 28, 39, 49, 59, 69, 100]\n",
        "labels = ['18-27', '28-37', '38-47', '48-57', '58-67', '68+']\n",
        "\n",
        "db['age_group'] = pd.cut(db['customer_age'], bins=bins, labels=labels, right=False)"
      ],
      "metadata": {
        "id": "f8CxnbLrJ4W7"
      },
      "execution_count": 529,
      "outputs": []
    },
    {
      "cell_type": "markdown",
      "source": [
        "# Criação de bases de dados separados por categorias para uso de análises futuras"
      ],
      "metadata": {
        "id": "n9ucvmUDmJk7"
      }
    },
    {
      "cell_type": "code",
      "source": [
        "home = db[db['product_category'] == 'Home']\n",
        "electronics = db[db['product_category'] == 'Electronics']\n",
        "books = db[db['product_category'] == 'Books']\n",
        "clothing = db[db['product_category'] == 'Clothing']"
      ],
      "metadata": {
        "id": "4opA2Z5zmU1J"
      },
      "execution_count": 530,
      "outputs": []
    },
    {
      "cell_type": "markdown",
      "source": [
        "# 1) Quais os produtos mais vendidos considerando os últimos 3 anos?"
      ],
      "metadata": {
        "id": "AyimTgjWebRq"
      }
    },
    {
      "cell_type": "code",
      "source": [
        "#Achando produtos mais vendidos dos últimos 3 anos (2020 à 2022)\n",
        "#Como não temos código do produto nem nome do produto, a minha estratégia será pegar produtos de mesma categoria e preço e assumir que são iguais quando essas duas colunas forem iguais.\n",
        "#No entanto é importante ressaltar que é possível que diferentes produtos de mesma categoria tenham o mesmo preço, o que pode gerar resultados incorretos em análise de outras colunas, como por exemplo, NPS de um suposto produto, pois se ocorrer esse caso, podem ser produtos diferentes de mesmo preço com NPS médio bem diferentes\n",
        "\n",
        "top_products = db.groupby([\"product_category\", \"product_price\"]).count()\n",
        "top10_products = top_products.sort_values(by=\"total_purchase_amount\", ascending=False).head(10).filter(items=[\"product_category\", \"product_price\", \"total_purchase_amount\"]).reset_index()\n",
        "top10_products.style.set_caption(\"10 produtos mais vendidos\")"
      ],
      "metadata": {
        "colab": {
          "base_uri": "https://localhost:8080/",
          "height": 401
        },
        "id": "YPBGCTCpXyLx",
        "outputId": "7817d2d5-4e03-4a88-a9b4-663d73db51ad"
      },
      "execution_count": 507,
      "outputs": [
        {
          "output_type": "execute_result",
          "data": {
            "text/plain": [
              "<pandas.io.formats.style.Styler at 0x7f0245448c70>"
            ],
            "text/html": [
              "<style type=\"text/css\">\n",
              "</style>\n",
              "<table id=\"T_2d88e\" class=\"dataframe\">\n",
              "  <caption>10 produtos mais vendidos</caption>\n",
              "  <thead>\n",
              "    <tr>\n",
              "      <th class=\"blank level0\" >&nbsp;</th>\n",
              "      <th id=\"T_2d88e_level0_col0\" class=\"col_heading level0 col0\" >product_category</th>\n",
              "      <th id=\"T_2d88e_level0_col1\" class=\"col_heading level0 col1\" >product_price</th>\n",
              "      <th id=\"T_2d88e_level0_col2\" class=\"col_heading level0 col2\" >total_purchase_amount</th>\n",
              "    </tr>\n",
              "  </thead>\n",
              "  <tbody>\n",
              "    <tr>\n",
              "      <th id=\"T_2d88e_level0_row0\" class=\"row_heading level0 row0\" >0</th>\n",
              "      <td id=\"T_2d88e_row0_col0\" class=\"data row0 col0\" >Books</td>\n",
              "      <td id=\"T_2d88e_row0_col1\" class=\"data row0 col1\" >48</td>\n",
              "      <td id=\"T_2d88e_row0_col2\" class=\"data row0 col2\" >192</td>\n",
              "    </tr>\n",
              "    <tr>\n",
              "      <th id=\"T_2d88e_level0_row1\" class=\"row_heading level0 row1\" >1</th>\n",
              "      <td id=\"T_2d88e_row1_col0\" class=\"data row1 col0\" >Books</td>\n",
              "      <td id=\"T_2d88e_row1_col1\" class=\"data row1 col1\" >86</td>\n",
              "      <td id=\"T_2d88e_row1_col2\" class=\"data row1 col2\" >188</td>\n",
              "    </tr>\n",
              "    <tr>\n",
              "      <th id=\"T_2d88e_level0_row2\" class=\"row_heading level0 row2\" >2</th>\n",
              "      <td id=\"T_2d88e_row2_col0\" class=\"data row2 col0\" >Clothing</td>\n",
              "      <td id=\"T_2d88e_row2_col1\" class=\"data row2 col1\" >398</td>\n",
              "      <td id=\"T_2d88e_row2_col2\" class=\"data row2 col2\" >187</td>\n",
              "    </tr>\n",
              "    <tr>\n",
              "      <th id=\"T_2d88e_level0_row3\" class=\"row_heading level0 row3\" >3</th>\n",
              "      <td id=\"T_2d88e_row3_col0\" class=\"data row3 col0\" >Clothing</td>\n",
              "      <td id=\"T_2d88e_row3_col1\" class=\"data row3 col1\" >202</td>\n",
              "      <td id=\"T_2d88e_row3_col2\" class=\"data row3 col2\" >186</td>\n",
              "    </tr>\n",
              "    <tr>\n",
              "      <th id=\"T_2d88e_level0_row4\" class=\"row_heading level0 row4\" >4</th>\n",
              "      <td id=\"T_2d88e_row4_col0\" class=\"data row4 col0\" >Books</td>\n",
              "      <td id=\"T_2d88e_row4_col1\" class=\"data row4 col1\" >197</td>\n",
              "      <td id=\"T_2d88e_row4_col2\" class=\"data row4 col2\" >185</td>\n",
              "    </tr>\n",
              "    <tr>\n",
              "      <th id=\"T_2d88e_level0_row5\" class=\"row_heading level0 row5\" >5</th>\n",
              "      <td id=\"T_2d88e_row5_col0\" class=\"data row5 col0\" >Clothing</td>\n",
              "      <td id=\"T_2d88e_row5_col1\" class=\"data row5 col1\" >45</td>\n",
              "      <td id=\"T_2d88e_row5_col2\" class=\"data row5 col2\" >185</td>\n",
              "    </tr>\n",
              "    <tr>\n",
              "      <th id=\"T_2d88e_level0_row6\" class=\"row_heading level0 row6\" >6</th>\n",
              "      <td id=\"T_2d88e_row6_col0\" class=\"data row6 col0\" >Clothing</td>\n",
              "      <td id=\"T_2d88e_row6_col1\" class=\"data row6 col1\" >28</td>\n",
              "      <td id=\"T_2d88e_row6_col2\" class=\"data row6 col2\" >185</td>\n",
              "    </tr>\n",
              "    <tr>\n",
              "      <th id=\"T_2d88e_level0_row7\" class=\"row_heading level0 row7\" >7</th>\n",
              "      <td id=\"T_2d88e_row7_col0\" class=\"data row7 col0\" >Books</td>\n",
              "      <td id=\"T_2d88e_row7_col1\" class=\"data row7 col1\" >365</td>\n",
              "      <td id=\"T_2d88e_row7_col2\" class=\"data row7 col2\" >184</td>\n",
              "    </tr>\n",
              "    <tr>\n",
              "      <th id=\"T_2d88e_level0_row8\" class=\"row_heading level0 row8\" >8</th>\n",
              "      <td id=\"T_2d88e_row8_col0\" class=\"data row8 col0\" >Books</td>\n",
              "      <td id=\"T_2d88e_row8_col1\" class=\"data row8 col1\" >308</td>\n",
              "      <td id=\"T_2d88e_row8_col2\" class=\"data row8 col2\" >184</td>\n",
              "    </tr>\n",
              "    <tr>\n",
              "      <th id=\"T_2d88e_level0_row9\" class=\"row_heading level0 row9\" >9</th>\n",
              "      <td id=\"T_2d88e_row9_col0\" class=\"data row9 col0\" >Clothing</td>\n",
              "      <td id=\"T_2d88e_row9_col1\" class=\"data row9 col1\" >407</td>\n",
              "      <td id=\"T_2d88e_row9_col2\" class=\"data row9 col2\" >183</td>\n",
              "    </tr>\n",
              "  </tbody>\n",
              "</table>\n"
            ]
          },
          "metadata": {},
          "execution_count": 507
        }
      ]
    },
    {
      "cell_type": "code",
      "source": [
        "top10_products['position'] = range(1, len(top10_products) + 1)\n",
        "\n",
        "plt.figure(figsize=(5,3))\n",
        "sns.barplot(data=top10_products, y='position', x='total_purchase_amount', orient='h')\n",
        "plt.title('10 produtos mais vendidos da plataforma')\n",
        "plt.xlabel('Quantidades vendidas')\n",
        "plt.ylabel('Ranking de cada produto')\n",
        "plt.xlim(170, None)\n",
        "plt.grid(True)\n",
        "plt.show()"
      ],
      "metadata": {
        "colab": {
          "base_uri": "https://localhost:8080/",
          "height": 353
        },
        "id": "KV_6l0lpMyd9",
        "outputId": "bf26d2a4-473e-46c3-eb20-8b509655b8de"
      },
      "execution_count": 508,
      "outputs": [
        {
          "output_type": "display_data",
          "data": {
            "text/plain": [
              "<Figure size 500x300 with 1 Axes>"
            ],
            "image/png": "[encoded data removed]"
          },
          "metadata": {}
        }
      ]
    },
    {
      "cell_type": "markdown",
      "source": [
        "Interpretação de linhas: o livro de preço 48 vendeu 192 unidades, e assim por diante."
      ],
      "metadata": {
        "id": "0ENbE1l11_Um"
      }
    },
    {
      "cell_type": "code",
      "source": [
        "#Também poderiam ser simplesmente as linhas com maiores valores de \"Total Purchase Amount\", mas creio que isso indique a quantidade total de compras por Customer ID, e não quantidade total de mesmo produto vendido, portanto ignorarei essa possibilidade\n",
        "#db.sort_values(by=\"Total Purchase Amount\", ascending=False).head(10)"
      ],
      "metadata": {
        "id": "7RzMU1y3i3s9"
      },
      "execution_count": 509,
      "outputs": []
    },
    {
      "cell_type": "markdown",
      "source": [
        "# 2) Qual o produto mais caro e o mais barato?"
      ],
      "metadata": {
        "id": "k7Fw0L70oCMd"
      }
    },
    {
      "cell_type": "code",
      "source": [
        "#Produto mais caro:\n",
        "idx = db[\"product_price\"].idxmax()\n",
        "db_maior_preco = db.loc[idx]\n",
        "print(db_maior_preco)"
      ],
      "metadata": {
        "colab": {
          "base_uri": "https://localhost:8080/"
        },
        "id": "oV9Qn4sVoIuw",
        "outputId": "8f1ff178-9d78-4ef3-9334-4c10cc4f64a9"
      },
      "execution_count": 510,
      "outputs": [
        {
          "output_type": "stream",
          "name": "stdout",
          "text": [
            "customer_id                          30759\n",
            "product_category               Electronics\n",
            "product_price                          500\n",
            "quantity                                 5\n",
            "total_purchase_amount                 4498\n",
            "nps                                      7\n",
            "customer_age                            21\n",
            "gender                              Female\n",
            "source                   Instagram Campign\n",
            "age_group                            18-28\n",
            "Name: 560, dtype: object\n"
          ]
        }
      ]
    },
    {
      "cell_type": "code",
      "source": [
        "#Conversão pra Series, pegando apenas o que identifica o produto: categoria e preço\n",
        "serie = pd.Series(db_maior_preco)\n",
        "produto_mais_caro = serie[['product_category', 'product_price']]\n",
        "print(produto_mais_caro)"
      ],
      "metadata": {
        "colab": {
          "base_uri": "https://localhost:8080/"
        },
        "id": "o2992BnRtq7H",
        "outputId": "60fc23ae-661e-460b-a27a-1ee3385625d1"
      },
      "execution_count": 511,
      "outputs": [
        {
          "output_type": "stream",
          "name": "stdout",
          "text": [
            "product_category    Electronics\n",
            "product_price               500\n",
            "Name: 560, dtype: object\n"
          ]
        }
      ]
    },
    {
      "cell_type": "markdown",
      "source": [
        "Produto mais caro: eletrônico de valor 500."
      ],
      "metadata": {
        "id": "SyCbEXto6x3-"
      }
    },
    {
      "cell_type": "code",
      "source": [
        "#Produto mais barato\n",
        "idx = db[\"product_price\"].idxmin()\n",
        "db_menor_preco = db.loc[idx]\n",
        "print(db_menor_preco)"
      ],
      "metadata": {
        "colab": {
          "base_uri": "https://localhost:8080/"
        },
        "id": "Vrbk27OrwoKs",
        "outputId": "9e4bbeb7-4a6b-4f2e-df33-4bf676d0b122"
      },
      "execution_count": 512,
      "outputs": [
        {
          "output_type": "stream",
          "name": "stdout",
          "text": [
            "customer_id                          20078\n",
            "product_category               Electronics\n",
            "product_price                           10\n",
            "quantity                                 3\n",
            "total_purchase_amount                 4274\n",
            "nps                                      9\n",
            "customer_age                            21\n",
            "gender                                Male\n",
            "source                   Instagram Campign\n",
            "age_group                            18-28\n",
            "Name: 1128, dtype: object\n"
          ]
        }
      ]
    },
    {
      "cell_type": "code",
      "source": [
        "#Conversão pra Series, pegando apenas o que identifica o produto: categoria e preço\n",
        "serie = pd.Series(db_menor_preco)\n",
        "produto_mais_barato = serie[['product_category', 'product_price']]\n",
        "print(produto_mais_barato)"
      ],
      "metadata": {
        "colab": {
          "base_uri": "https://localhost:8080/"
        },
        "id": "x6EJBfn7xUhh",
        "outputId": "979a38ce-f988-496f-d11d-b3e9f1d42a02"
      },
      "execution_count": 513,
      "outputs": [
        {
          "output_type": "stream",
          "name": "stdout",
          "text": [
            "product_category    Electronics\n",
            "product_price                10\n",
            "Name: 1128, dtype: object\n"
          ]
        }
      ]
    },
    {
      "cell_type": "markdown",
      "source": [
        "Produto mais barato: eletrônico de valor 10."
      ],
      "metadata": {
        "id": "mPkXm_Ei62YE"
      }
    },
    {
      "cell_type": "markdown",
      "source": [
        "# 3) Qual a categoria de produto mais vendida e menos vendida? Qual a categoria mais e menos cara?"
      ],
      "metadata": {
        "id": "kvZfTlzQwXKC"
      }
    },
    {
      "cell_type": "code",
      "source": [
        "#Categorias mais e menos vendida\n",
        "categories_ranked_by_sold_volume = db.groupby(\"product_category\").count().sort_values(by=\"total_purchase_amount\", ascending=False).filter(items=[\"product_category\", \"total_purchase_amount\"])\n",
        "categories_ranked_by_sold_volume"
      ],
      "metadata": {
        "id": "r6jN9sxXximq",
        "colab": {
          "base_uri": "https://localhost:8080/",
          "height": 226
        },
        "outputId": "0879d740-bbf8-4aff-b605-571aa8c3fecb"
      },
      "execution_count": 514,
      "outputs": [
        {
          "output_type": "execute_result",
          "data": {
            "text/plain": [
              "                  total_purchase_amount\n",
              "product_category                       \n",
              "Clothing                          75052\n",
              "Books                             74912\n",
              "Electronics                       50185\n",
              "Home                              49851"
            ],
            "text/html": [
              "\n",
              "  <div id=\"df-ea653ad4-f6b7-4ac7-87f7-07933aeb69b9\" class=\"colab-df-container\">\n",
              "    <div>\n",
              "<style scoped>\n",
              "    .dataframe tbody tr th:only-of-type {\n",
              "        vertical-align: middle;\n",
              "    }\n",
              "\n",
              "    .dataframe tbody tr th {\n",
              "        vertical-align: top;\n",
              "    }\n",
              "\n",
              "    .dataframe thead th {\n",
              "        text-align: right;\n",
              "    }\n",
              "</style>\n",
              "<table border=\"1\" class=\"dataframe\">\n",
              "  <thead>\n",
              "    <tr style=\"text-align: right;\">\n",
              "      <th></th>\n",
              "      <th>total_purchase_amount</th>\n",
              "    </tr>\n",
              "    <tr>\n",
              "      <th>product_category</th>\n",
              "      <th></th>\n",
              "    </tr>\n",
              "  </thead>\n",
              "  <tbody>\n",
              "    <tr>\n",
              "      <th>Clothing</th>\n",
              "      <td>75052</td>\n",
              "    </tr>\n",
              "    <tr>\n",
              "      <th>Books</th>\n",
              "      <td>74912</td>\n",
              "    </tr>\n",
              "    <tr>\n",
              "      <th>Electronics</th>\n",
              "      <td>50185</td>\n",
              "    </tr>\n",
              "    <tr>\n",
              "      <th>Home</th>\n",
              "      <td>49851</td>\n",
              "    </tr>\n",
              "  </tbody>\n",
              "</table>\n",
              "</div>\n",
              "    <div class=\"colab-df-buttons\">\n",
              "\n",
              "  <div class=\"colab-df-container\">\n",
              "    <button class=\"colab-df-convert\" onclick=\"convertToInteractive('df-ea653ad4-f6b7-4ac7-87f7-07933aeb69b9')\"\n",
              "            title=\"Convert this dataframe to an interactive table.\"\n",
              "            style=\"display:none;\">\n",
              "\n",
              "  <svg xmlns=\"http://www.w3.org/2000/svg\" height=\"24px\" viewBox=\"0 -960 960 960\">\n",
              "    <path d=\"M120-120v-720h720v720H120Zm60-500h600v-160H180v160Zm220 220h160v-160H400v160Zm0 220h160v-160H400v160ZM180-400h160v-160H180v160Zm440 0h160v-160H620v160ZM180-180h160v-160H180v160Zm440 0h160v-160H620v160Z\"/>\n",
              "  </svg>\n",
              "    </button>\n",
              "\n",
              "  <style>\n",
              "    .colab-df-container {\n",
              "      display:flex;\n",
              "      gap: 12px;\n",
              "    }\n",
              "\n",
              "    .colab-df-convert {\n",
              "      background-color: #E8F0FE;\n",
              "      border: none;\n",
              "      border-radius: 50%;\n",
              "      cursor: pointer;\n",
              "      display: none;\n",
              "      fill: #1967D2;\n",
              "      height: 32px;\n",
              "      padding: 0 0 0 0;\n",
              "      width: 32px;\n",
              "    }\n",
              "\n",
              "    .colab-df-convert:hover {\n",
              "      background-color: #E2EBFA;\n",
              "      box-shadow: 0px 1px 2px rgba(60, 64, 67, 0.3), 0px 1px 3px 1px rgba(60, 64, 67, 0.15);\n",
              "      fill: #174EA6;\n",
              "    }\n",
              "\n",
              "    .colab-df-buttons div {\n",
              "      margin-bottom: 4px;\n",
              "    }\n",
              "\n",
              "    [theme=dark] .colab-df-convert {\n",
              "      background-color: #3B4455;\n",
              "      fill: #D2E3FC;\n",
              "    }\n",
              "\n",
              "    [theme=dark] .colab-df-convert:hover {\n",
              "      background-color: #434B5C;\n",
              "      box-shadow: 0px 1px 3px 1px rgba(0, 0, 0, 0.15);\n",
              "      filter: drop-shadow(0px 1px 2px rgba(0, 0, 0, 0.3));\n",
              "      fill: #FFFFFF;\n",
              "    }\n",
              "  </style>\n",
              "\n",
              "    <script>\n",
              "      const buttonEl =\n",
              "        document.querySelector('#df-ea653ad4-f6b7-4ac7-87f7-07933aeb69b9 button.colab-df-convert');\n",
              "      buttonEl.style.display =\n",
              "        google.colab.kernel.accessAllowed ? 'block' : 'none';\n",
              "\n",
              "      async function convertToInteractive(key) {\n",
              "        const element = document.querySelector('#df-ea653ad4-f6b7-4ac7-87f7-07933aeb69b9');\n",
              "        const dataTable =\n",
              "          await google.colab.kernel.invokeFunction('convertToInteractive',\n",
              "                                                    [key], {});\n",
              "        if (!dataTable) return;\n",
              "\n",
              "        const docLinkHtml = 'Like what you see? Visit the ' +\n",
              "          '<a target=\"_blank\" href=https://colab.research.google.com/notebooks/data_table.ipynb>data table notebook</a>'\n",
              "          + ' to learn more about interactive tables.';\n",
              "        element.innerHTML = '';\n",
              "        dataTable['output_type'] = 'display_data';\n",
              "        await google.colab.output.renderOutput(dataTable, element);\n",
              "        const docLink = document.createElement('div');\n",
              "        docLink.innerHTML = docLinkHtml;\n",
              "        element.appendChild(docLink);\n",
              "      }\n",
              "    </script>\n",
              "  </div>\n",
              "\n",
              "\n",
              "<div id=\"df-806f5eba-e436-4ab8-b1df-141c623853e9\">\n",
              "  <button class=\"colab-df-quickchart\" onclick=\"quickchart('df-806f5eba-e436-4ab8-b1df-141c623853e9')\"\n",
              "            title=\"Suggest charts\"\n",
              "            style=\"display:none;\">\n",
              "\n",
              "<svg xmlns=\"http://www.w3.org/2000/svg\" height=\"24px\"viewBox=\"0 0 24 24\"\n",
              "     width=\"24px\">\n",
              "    <g>\n",
              "        <path d=\"M19 3H5c-1.1 0-2 .9-2 2v14c0 1.1.9 2 2 2h14c1.1 0 2-.9 2-2V5c0-1.1-.9-2-2-2zM9 17H7v-7h2v7zm4 0h-2V7h2v10zm4 0h-2v-4h2v4z\"/>\n",
              "    </g>\n",
              "</svg>\n",
              "  </button>\n",
              "\n",
              "<style>\n",
              "  .colab-df-quickchart {\n",
              "      --bg-color: #E8F0FE;\n",
              "      --fill-color: #1967D2;\n",
              "      --hover-bg-color: #E2EBFA;\n",
              "      --hover-fill-color: #174EA6;\n",
              "      --disabled-fill-color: #AAA;\n",
              "      --disabled-bg-color: #DDD;\n",
              "  }\n",
              "\n",
              "  [theme=dark] .colab-df-quickchart {\n",
              "      --bg-color: #3B4455;\n",
              "      --fill-color: #D2E3FC;\n",
              "      --hover-bg-color: #434B5C;\n",
              "      --hover-fill-color: #FFFFFF;\n",
              "      --disabled-bg-color: #3B4455;\n",
              "      --disabled-fill-color: #666;\n",
              "  }\n",
              "\n",
              "  .colab-df-quickchart {\n",
              "    background-color: var(--bg-color);\n",
              "    border: none;\n",
              "    border-radius: 50%;\n",
              "    cursor: pointer;\n",
              "    display: none;\n",
              "    fill: var(--fill-color);\n",
              "    height: 32px;\n",
              "    padding: 0;\n",
              "    width: 32px;\n",
              "  }\n",
              "\n",
              "  .colab-df-quickchart:hover {\n",
              "    background-color: var(--hover-bg-color);\n",
              "    box-shadow: 0 1px 2px rgba(60, 64, 67, 0.3), 0 1px 3px 1px rgba(60, 64, 67, 0.15);\n",
              "    fill: var(--button-hover-fill-color);\n",
              "  }\n",
              "\n",
              "  .colab-df-quickchart-complete:disabled,\n",
              "  .colab-df-quickchart-complete:disabled:hover {\n",
              "    background-color: var(--disabled-bg-color);\n",
              "    fill: var(--disabled-fill-color);\n",
              "    box-shadow: none;\n",
              "  }\n",
              "\n",
              "  .colab-df-spinner {\n",
              "    border: 2px solid var(--fill-color);\n",
              "    border-color: transparent;\n",
              "    border-bottom-color: var(--fill-color);\n",
              "    animation:\n",
              "      spin 1s steps(1) infinite;\n",
              "  }\n",
              "\n",
              "  @keyframes spin {\n",
              "    0% {\n",
              "      border-color: transparent;\n",
              "      border-bottom-color: var(--fill-color);\n",
              "      border-left-color: var(--fill-color);\n",
              "    }\n",
              "    20% {\n",
              "      border-color: transparent;\n",
              "      border-left-color: var(--fill-color);\n",
              "      border-top-color: var(--fill-color);\n",
              "    }\n",
              "    30% {\n",
              "      border-color: transparent;\n",
              "      border-left-color: var(--fill-color);\n",
              "      border-top-color: var(--fill-color);\n",
              "      border-right-color: var(--fill-color);\n",
              "    }\n",
              "    40% {\n",
              "      border-color: transparent;\n",
              "      border-right-color: var(--fill-color);\n",
              "      border-top-color: var(--fill-color);\n",
              "    }\n",
              "    60% {\n",
              "      border-color: transparent;\n",
              "      border-right-color: var(--fill-color);\n",
              "    }\n",
              "    80% {\n",
              "      border-color: transparent;\n",
              "      border-right-color: var(--fill-color);\n",
              "      border-bottom-color: var(--fill-color);\n",
              "    }\n",
              "    90% {\n",
              "      border-color: transparent;\n",
              "      border-bottom-color: var(--fill-color);\n",
              "    }\n",
              "  }\n",
              "</style>\n",
              "\n",
              "  <script>\n",
              "    async function quickchart(key) {\n",
              "      const quickchartButtonEl =\n",
              "        document.querySelector('#' + key + ' button');\n",
              "      quickchartButtonEl.disabled = true;  // To prevent multiple clicks.\n",
              "      quickchartButtonEl.classList.add('colab-df-spinner');\n",
              "      try {\n",
              "        const charts = await google.colab.kernel.invokeFunction(\n",
              "            'suggestCharts', [key], {});\n",
              "      } catch (error) {\n",
              "        console.error('Error during call to suggestCharts:', error);\n",
              "      }\n",
              "      quickchartButtonEl.classList.remove('colab-df-spinner');\n",
              "      quickchartButtonEl.classList.add('colab-df-quickchart-complete');\n",
              "    }\n",
              "    (() => {\n",
              "      let quickchartButtonEl =\n",
              "        document.querySelector('#df-806f5eba-e436-4ab8-b1df-141c623853e9 button');\n",
              "      quickchartButtonEl.style.display =\n",
              "        google.colab.kernel.accessAllowed ? 'block' : 'none';\n",
              "    })();\n",
              "  </script>\n",
              "</div>\n",
              "\n",
              "  <div id=\"id_f6677cfd-8ec9-49fd-9565-f3738ab93064\">\n",
              "    <style>\n",
              "      .colab-df-generate {\n",
              "        background-color: #E8F0FE;\n",
              "        border: none;\n",
              "        border-radius: 50%;\n",
              "        cursor: pointer;\n",
              "        display: none;\n",
              "        fill: #1967D2;\n",
              "        height: 32px;\n",
              "        padding: 0 0 0 0;\n",
              "        width: 32px;\n",
              "      }\n",
              "\n",
              "      .colab-df-generate:hover {\n",
              "        background-color: #E2EBFA;\n",
              "        box-shadow: 0px 1px 2px rgba(60, 64, 67, 0.3), 0px 1px 3px 1px rgba(60, 64, 67, 0.15);\n",
              "        fill: #174EA6;\n",
              "      }\n",
              "\n",
              "      [theme=dark] .colab-df-generate {\n",
              "        background-color: #3B4455;\n",
              "        fill: #D2E3FC;\n",
              "      }\n",
              "\n",
              "      [theme=dark] .colab-df-generate:hover {\n",
              "        background-color: #434B5C;\n",
              "        box-shadow: 0px 1px 3px 1px rgba(0, 0, 0, 0.15);\n",
              "        filter: drop-shadow(0px 1px 2px rgba(0, 0, 0, 0.3));\n",
              "        fill: #FFFFFF;\n",
              "      }\n",
              "    </style>\n",
              "    <button class=\"colab-df-generate\" onclick=\"generateWithVariable('categories_ranked_by_sold_volume')\"\n",
              "            title=\"Generate code using this dataframe.\"\n",
              "            style=\"display:none;\">\n",
              "\n",
              "  <svg xmlns=\"http://www.w3.org/2000/svg\" height=\"24px\"viewBox=\"0 0 24 24\"\n",
              "       width=\"24px\">\n",
              "    <path d=\"M7,19H8.4L18.45,9,17,7.55,7,17.6ZM5,21V16.75L18.45,3.32a2,2,0,0,1,2.83,0l1.4,1.43a1.91,1.91,0,0,1,.58,1.4,1.91,1.91,0,0,1-.58,1.4L9.25,21ZM18.45,9,17,7.55Zm-12,3A5.31,5.31,0,0,0,4.9,8.1,5.31,5.31,0,0,0,1,6.5,5.31,5.31,0,0,0,4.9,4.9,5.31,5.31,0,0,0,6.5,1,5.31,5.31,0,0,0,8.1,4.9,5.31,5.31,0,0,0,12,6.5,5.46,5.46,0,0,0,6.5,12Z\"/>\n",
              "  </svg>\n",
              "    </button>\n",
              "    <script>\n",
              "      (() => {\n",
              "      const buttonEl =\n",
              "        document.querySelector('#id_f6677cfd-8ec9-49fd-9565-f3738ab93064 button.colab-df-generate');\n",
              "      buttonEl.style.display =\n",
              "        google.colab.kernel.accessAllowed ? 'block' : 'none';\n",
              "\n",
              "      buttonEl.onclick = () => {\n",
              "        google.colab.notebook.generateWithVariable('categories_ranked_by_sold_volume');\n",
              "      }\n",
              "      })();\n",
              "    </script>\n",
              "  </div>\n",
              "\n",
              "    </div>\n",
              "  </div>\n"
            ],
            "application/vnd.google.colaboratory.intrinsic+json": {
              "type": "dataframe",
              "variable_name": "categories_ranked_by_sold_volume",
              "summary": "{\n  \"name\": \"categories_ranked_by_sold_volume\",\n  \"rows\": 4,\n  \"fields\": [\n    {\n      \"column\": \"product_category\",\n      \"properties\": {\n        \"dtype\": \"string\",\n        \"num_unique_values\": 4,\n        \"samples\": [\n          \"Books\",\n          \"Home\",\n          \"Clothing\"\n        ],\n        \"semantic_type\": \"\",\n        \"description\": \"\"\n      }\n    },\n    {\n      \"column\": \"total_purchase_amount\",\n      \"properties\": {\n        \"dtype\": \"number\",\n        \"std\": 14413,\n        \"min\": 49851,\n        \"max\": 75052,\n        \"num_unique_values\": 4,\n        \"samples\": [\n          74912,\n          49851,\n          75052\n        ],\n        \"semantic_type\": \"\",\n        \"description\": \"\"\n      }\n    }\n  ]\n}"
            }
          },
          "metadata": {},
          "execution_count": 514
        }
      ]
    },
    {
      "cell_type": "code",
      "source": [
        "plt.figure(figsize=(5,3))\n",
        "sns.barplot(data=categories_ranked_by_sold_volume, x='product_category', y='total_purchase_amount', orient='v')\n",
        "plt.title('Volume de vendas por categoria')\n",
        "plt.xlabel('Categorias')\n",
        "plt.ylabel('Volume vendido')\n",
        "plt.show()"
      ],
      "metadata": {
        "colab": {
          "base_uri": "https://localhost:8080/",
          "height": 353
        },
        "id": "NPAzri6BS4Sm",
        "outputId": "21fe839d-9b98-428d-c403-7d388d31c01f"
      },
      "execution_count": 515,
      "outputs": [
        {
          "output_type": "display_data",
          "data": {
            "text/plain": [
              "<Figure size 500x300 with 1 Axes>"
            ],
            "image/png": "[encoded data removed]"
          },
          "metadata": {}
        }
      ]
    },
    {
      "cell_type": "markdown",
      "source": [
        "Categoria mais vendida: roupas, porém praticamente empatado com livros"
      ],
      "metadata": {
        "id": "NgU22HqB2ovi"
      }
    },
    {
      "cell_type": "markdown",
      "source": [
        "Categoria menos vendida: casa, porém praticamente empatado com eletrônicos"
      ],
      "metadata": {
        "id": "QBYMScKr6dWt"
      }
    },
    {
      "cell_type": "code",
      "source": [
        "#Categorias mais e menos caras\n",
        "categories_ranked_by_average_price = db.groupby(\"product_category\")[\"product_price\"].mean().round(3).reset_index().sort_values(by=\"product_price\", ascending=False)\n",
        "categories_ranked_by_average_price"
      ],
      "metadata": {
        "colab": {
          "base_uri": "https://localhost:8080/",
          "height": 195
        },
        "id": "Nq4rRnbJ3VyI",
        "outputId": "16f6bdf8-7f21-44fc-e65e-0b8873aca4e8"
      },
      "execution_count": 516,
      "outputs": [
        {
          "output_type": "execute_result",
          "data": {
            "text/plain": [
              "  product_category  product_price\n",
              "3             Home        254.842\n",
              "2      Electronics        254.723\n",
              "0            Books        254.709\n",
              "1         Clothing        254.446"
            ],
            "text/html": [
              "\n",
              "  <div id=\"df-b7545cb2-93b3-4ade-8aba-e1da29eb2737\" class=\"colab-df-container\">\n",
              "    <div>\n",
              "<style scoped>\n",
              "    .dataframe tbody tr th:only-of-type {\n",
              "        vertical-align: middle;\n",
              "    }\n",
              "\n",
              "    .dataframe tbody tr th {\n",
              "        vertical-align: top;\n",
              "    }\n",
              "\n",
              "    .dataframe thead th {\n",
              "        text-align: right;\n",
              "    }\n",
              "</style>\n",
              "<table border=\"1\" class=\"dataframe\">\n",
              "  <thead>\n",
              "    <tr style=\"text-align: right;\">\n",
              "      <th></th>\n",
              "      <th>product_category</th>\n",
              "      <th>product_price</th>\n",
              "    </tr>\n",
              "  </thead>\n",
              "  <tbody>\n",
              "    <tr>\n",
              "      <th>3</th>\n",
              "      <td>Home</td>\n",
              "      <td>254.842</td>\n",
              "    </tr>\n",
              "    <tr>\n",
              "      <th>2</th>\n",
              "      <td>Electronics</td>\n",
              "      <td>254.723</td>\n",
              "    </tr>\n",
              "    <tr>\n",
              "      <th>0</th>\n",
              "      <td>Books</td>\n",
              "      <td>254.709</td>\n",
              "    </tr>\n",
              "    <tr>\n",
              "      <th>1</th>\n",
              "      <td>Clothing</td>\n",
              "      <td>254.446</td>\n",
              "    </tr>\n",
              "  </tbody>\n",
              "</table>\n",
              "</div>\n",
              "    <div class=\"colab-df-buttons\">\n",
              "\n",
              "  <div class=\"colab-df-container\">\n",
              "    <button class=\"colab-df-convert\" onclick=\"convertToInteractive('df-b7545cb2-93b3-4ade-8aba-e1da29eb2737')\"\n",
              "            title=\"Convert this dataframe to an interactive table.\"\n",
              "            style=\"display:none;\">\n",
              "\n",
              "  <svg xmlns=\"http://www.w3.org/2000/svg\" height=\"24px\" viewBox=\"0 -960 960 960\">\n",
              "    <path d=\"M120-120v-720h720v720H120Zm60-500h600v-160H180v160Zm220 220h160v-160H400v160Zm0 220h160v-160H400v160ZM180-400h160v-160H180v160Zm440 0h160v-160H620v160ZM180-180h160v-160H180v160Zm440 0h160v-160H620v160Z\"/>\n",
              "  </svg>\n",
              "    </button>\n",
              "\n",
              "  <style>\n",
              "    .colab-df-container {\n",
              "      display:flex;\n",
              "      gap: 12px;\n",
              "    }\n",
              "\n",
              "    .colab-df-convert {\n",
              "      background-color: #E8F0FE;\n",
              "      border: none;\n",
              "      border-radius: 50%;\n",
              "      cursor: pointer;\n",
              "      display: none;\n",
              "      fill: #1967D2;\n",
              "      height: 32px;\n",
              "      padding: 0 0 0 0;\n",
              "      width: 32px;\n",
              "    }\n",
              "\n",
              "    .colab-df-convert:hover {\n",
              "      background-color: #E2EBFA;\n",
              "      box-shadow: 0px 1px 2px rgba(60, 64, 67, 0.3), 0px 1px 3px 1px rgba(60, 64, 67, 0.15);\n",
              "      fill: #174EA6;\n",
              "    }\n",
              "\n",
              "    .colab-df-buttons div {\n",
              "      margin-bottom: 4px;\n",
              "    }\n",
              "\n",
              "    [theme=dark] .colab-df-convert {\n",
              "      background-color: #3B4455;\n",
              "      fill: #D2E3FC;\n",
              "    }\n",
              "\n",
              "    [theme=dark] .colab-df-convert:hover {\n",
              "      background-color: #434B5C;\n",
              "      box-shadow: 0px 1px 3px 1px rgba(0, 0, 0, 0.15);\n",
              "      filter: drop-shadow(0px 1px 2px rgba(0, 0, 0, 0.3));\n",
              "      fill: #FFFFFF;\n",
              "    }\n",
              "  </style>\n",
              "\n",
              "    <script>\n",
              "      const buttonEl =\n",
              "        document.querySelector('#df-b7545cb2-93b3-4ade-8aba-e1da29eb2737 button.colab-df-convert');\n",
              "      buttonEl.style.display =\n",
              "        google.colab.kernel.accessAllowed ? 'block' : 'none';\n",
              "\n",
              "      async function convertToInteractive(key) {\n",
              "        const element = document.querySelector('#df-b7545cb2-93b3-4ade-8aba-e1da29eb2737');\n",
              "        const dataTable =\n",
              "          await google.colab.kernel.invokeFunction('convertToInteractive',\n",
              "                                                    [key], {});\n",
              "        if (!dataTable) return;\n",
              "\n",
              "        const docLinkHtml = 'Like what you see? Visit the ' +\n",
              "          '<a target=\"_blank\" href=https://colab.research.google.com/notebooks/data_table.ipynb>data table notebook</a>'\n",
              "          + ' to learn more about interactive tables.';\n",
              "        element.innerHTML = '';\n",
              "        dataTable['output_type'] = 'display_data';\n",
              "        await google.colab.output.renderOutput(dataTable, element);\n",
              "        const docLink = document.createElement('div');\n",
              "        docLink.innerHTML = docLinkHtml;\n",
              "        element.appendChild(docLink);\n",
              "      }\n",
              "    </script>\n",
              "  </div>\n",
              "\n",
              "\n",
              "<div id=\"df-5efe9cde-cb07-4ef6-b12c-6f3f0a0eaa17\">\n",
              "  <button class=\"colab-df-quickchart\" onclick=\"quickchart('df-5efe9cde-cb07-4ef6-b12c-6f3f0a0eaa17')\"\n",
              "            title=\"Suggest charts\"\n",
              "            style=\"display:none;\">\n",
              "\n",
              "<svg xmlns=\"http://www.w3.org/2000/svg\" height=\"24px\"viewBox=\"0 0 24 24\"\n",
              "     width=\"24px\">\n",
              "    <g>\n",
              "        <path d=\"M19 3H5c-1.1 0-2 .9-2 2v14c0 1.1.9 2 2 2h14c1.1 0 2-.9 2-2V5c0-1.1-.9-2-2-2zM9 17H7v-7h2v7zm4 0h-2V7h2v10zm4 0h-2v-4h2v4z\"/>\n",
              "    </g>\n",
              "</svg>\n",
              "  </button>\n",
              "\n",
              "<style>\n",
              "  .colab-df-quickchart {\n",
              "      --bg-color: #E8F0FE;\n",
              "      --fill-color: #1967D2;\n",
              "      --hover-bg-color: #E2EBFA;\n",
              "      --hover-fill-color: #174EA6;\n",
              "      --disabled-fill-color: #AAA;\n",
              "      --disabled-bg-color: #DDD;\n",
              "  }\n",
              "\n",
              "  [theme=dark] .colab-df-quickchart {\n",
              "      --bg-color: #3B4455;\n",
              "      --fill-color: #D2E3FC;\n",
              "      --hover-bg-color: #434B5C;\n",
              "      --hover-fill-color: #FFFFFF;\n",
              "      --disabled-bg-color: #3B4455;\n",
              "      --disabled-fill-color: #666;\n",
              "  }\n",
              "\n",
              "  .colab-df-quickchart {\n",
              "    background-color: var(--bg-color);\n",
              "    border: none;\n",
              "    border-radius: 50%;\n",
              "    cursor: pointer;\n",
              "    display: none;\n",
              "    fill: var(--fill-color);\n",
              "    height: 32px;\n",
              "    padding: 0;\n",
              "    width: 32px;\n",
              "  }\n",
              "\n",
              "  .colab-df-quickchart:hover {\n",
              "    background-color: var(--hover-bg-color);\n",
              "    box-shadow: 0 1px 2px rgba(60, 64, 67, 0.3), 0 1px 3px 1px rgba(60, 64, 67, 0.15);\n",
              "    fill: var(--button-hover-fill-color);\n",
              "  }\n",
              "\n",
              "  .colab-df-quickchart-complete:disabled,\n",
              "  .colab-df-quickchart-complete:disabled:hover {\n",
              "    background-color: var(--disabled-bg-color);\n",
              "    fill: var(--disabled-fill-color);\n",
              "    box-shadow: none;\n",
              "  }\n",
              "\n",
              "  .colab-df-spinner {\n",
              "    border: 2px solid var(--fill-color);\n",
              "    border-color: transparent;\n",
              "    border-bottom-color: var(--fill-color);\n",
              "    animation:\n",
              "      spin 1s steps(1) infinite;\n",
              "  }\n",
              "\n",
              "  @keyframes spin {\n",
              "    0% {\n",
              "      border-color: transparent;\n",
              "      border-bottom-color: var(--fill-color);\n",
              "      border-left-color: var(--fill-color);\n",
              "    }\n",
              "    20% {\n",
              "      border-color: transparent;\n",
              "      border-left-color: var(--fill-color);\n",
              "      border-top-color: var(--fill-color);\n",
              "    }\n",
              "    30% {\n",
              "      border-color: transparent;\n",
              "      border-left-color: var(--fill-color);\n",
              "      border-top-color: var(--fill-color);\n",
              "      border-right-color: var(--fill-color);\n",
              "    }\n",
              "    40% {\n",
              "      border-color: transparent;\n",
              "      border-right-color: var(--fill-color);\n",
              "      border-top-color: var(--fill-color);\n",
              "    }\n",
              "    60% {\n",
              "      border-color: transparent;\n",
              "      border-right-color: var(--fill-color);\n",
              "    }\n",
              "    80% {\n",
              "      border-color: transparent;\n",
              "      border-right-color: var(--fill-color);\n",
              "      border-bottom-color: var(--fill-color);\n",
              "    }\n",
              "    90% {\n",
              "      border-color: transparent;\n",
              "      border-bottom-color: var(--fill-color);\n",
              "    }\n",
              "  }\n",
              "</style>\n",
              "\n",
              "  <script>\n",
              "    async function quickchart(key) {\n",
              "      const quickchartButtonEl =\n",
              "        document.querySelector('#' + key + ' button');\n",
              "      quickchartButtonEl.disabled = true;  // To prevent multiple clicks.\n",
              "      quickchartButtonEl.classList.add('colab-df-spinner');\n",
              "      try {\n",
              "        const charts = await google.colab.kernel.invokeFunction(\n",
              "            'suggestCharts', [key], {});\n",
              "      } catch (error) {\n",
              "        console.error('Error during call to suggestCharts:', error);\n",
              "      }\n",
              "      quickchartButtonEl.classList.remove('colab-df-spinner');\n",
              "      quickchartButtonEl.classList.add('colab-df-quickchart-complete');\n",
              "    }\n",
              "    (() => {\n",
              "      let quickchartButtonEl =\n",
              "        document.querySelector('#df-5efe9cde-cb07-4ef6-b12c-6f3f0a0eaa17 button');\n",
              "      quickchartButtonEl.style.display =\n",
              "        google.colab.kernel.accessAllowed ? 'block' : 'none';\n",
              "    })();\n",
              "  </script>\n",
              "</div>\n",
              "\n",
              "  <div id=\"id_d087a12e-fb89-412a-bf71-9d95b0442798\">\n",
              "    <style>\n",
              "      .colab-df-generate {\n",
              "        background-color: #E8F0FE;\n",
              "        border: none;\n",
              "        border-radius: 50%;\n",
              "        cursor: pointer;\n",
              "        display: none;\n",
              "        fill: #1967D2;\n",
              "        height: 32px;\n",
              "        padding: 0 0 0 0;\n",
              "        width: 32px;\n",
              "      }\n",
              "\n",
              "      .colab-df-generate:hover {\n",
              "        background-color: #E2EBFA;\n",
              "        box-shadow: 0px 1px 2px rgba(60, 64, 67, 0.3), 0px 1px 3px 1px rgba(60, 64, 67, 0.15);\n",
              "        fill: #174EA6;\n",
              "      }\n",
              "\n",
              "      [theme=dark] .colab-df-generate {\n",
              "        background-color: #3B4455;\n",
              "        fill: #D2E3FC;\n",
              "      }\n",
              "\n",
              "      [theme=dark] .colab-df-generate:hover {\n",
              "        background-color: #434B5C;\n",
              "        box-shadow: 0px 1px 3px 1px rgba(0, 0, 0, 0.15);\n",
              "        filter: drop-shadow(0px 1px 2px rgba(0, 0, 0, 0.3));\n",
              "        fill: #FFFFFF;\n",
              "      }\n",
              "    </style>\n",
              "    <button class=\"colab-df-generate\" onclick=\"generateWithVariable('categories_ranked_by_average_price')\"\n",
              "            title=\"Generate code using this dataframe.\"\n",
              "            style=\"display:none;\">\n",
              "\n",
              "  <svg xmlns=\"http://www.w3.org/2000/svg\" height=\"24px\"viewBox=\"0 0 24 24\"\n",
              "       width=\"24px\">\n",
              "    <path d=\"M7,19H8.4L18.45,9,17,7.55,7,17.6ZM5,21V16.75L18.45,3.32a2,2,0,0,1,2.83,0l1.4,1.43a1.91,1.91,0,0,1,.58,1.4,1.91,1.91,0,0,1-.58,1.4L9.25,21ZM18.45,9,17,7.55Zm-12,3A5.31,5.31,0,0,0,4.9,8.1,5.31,5.31,0,0,0,1,6.5,5.31,5.31,0,0,0,4.9,4.9,5.31,5.31,0,0,0,6.5,1,5.31,5.31,0,0,0,8.1,4.9,5.31,5.31,0,0,0,12,6.5,5.46,5.46,0,0,0,6.5,12Z\"/>\n",
              "  </svg>\n",
              "    </button>\n",
              "    <script>\n",
              "      (() => {\n",
              "      const buttonEl =\n",
              "        document.querySelector('#id_d087a12e-fb89-412a-bf71-9d95b0442798 button.colab-df-generate');\n",
              "      buttonEl.style.display =\n",
              "        google.colab.kernel.accessAllowed ? 'block' : 'none';\n",
              "\n",
              "      buttonEl.onclick = () => {\n",
              "        google.colab.notebook.generateWithVariable('categories_ranked_by_average_price');\n",
              "      }\n",
              "      })();\n",
              "    </script>\n",
              "  </div>\n",
              "\n",
              "    </div>\n",
              "  </div>\n"
            ],
            "application/vnd.google.colaboratory.intrinsic+json": {
              "type": "dataframe",
              "variable_name": "categories_ranked_by_average_price",
              "summary": "{\n  \"name\": \"categories_ranked_by_average_price\",\n  \"rows\": 4,\n  \"fields\": [\n    {\n      \"column\": \"product_category\",\n      \"properties\": {\n        \"dtype\": \"string\",\n        \"num_unique_values\": 4,\n        \"samples\": [\n          \"Electronics\",\n          \"Clothing\",\n          \"Home\"\n        ],\n        \"semantic_type\": \"\",\n        \"description\": \"\"\n      }\n    },\n    {\n      \"column\": \"product_price\",\n      \"properties\": {\n        \"dtype\": \"number\",\n        \"std\": 0.16702295251452368,\n        \"min\": 254.446,\n        \"max\": 254.842,\n        \"num_unique_values\": 4,\n        \"samples\": [\n          254.723,\n          254.446,\n          254.842\n        ],\n        \"semantic_type\": \"\",\n        \"description\": \"\"\n      }\n    }\n  ]\n}"
            }
          },
          "metadata": {},
          "execution_count": 516
        }
      ]
    },
    {
      "cell_type": "code",
      "source": [
        "percentiles = [0.25, 0.50, 0.75, 0.90, 0.95, 0.99]"
      ],
      "metadata": {
        "id": "SOdrlz7NXQfe"
      },
      "execution_count": 517,
      "outputs": []
    },
    {
      "cell_type": "code",
      "source": [
        "home['product_price'].quantile(percentiles)"
      ],
      "metadata": {
        "colab": {
          "base_uri": "https://localhost:8080/"
        },
        "id": "s9z-8DT3YdUQ",
        "outputId": "8d1ab284-6045-46ed-82bd-cef4638ecfa2"
      },
      "execution_count": 518,
      "outputs": [
        {
          "output_type": "execute_result",
          "data": {
            "text/plain": [
              "0.25    132.0\n",
              "0.50    256.0\n",
              "0.75    377.0\n",
              "0.90    451.0\n",
              "0.95    476.0\n",
              "0.99    496.0\n",
              "Name: product_price, dtype: float64"
            ]
          },
          "metadata": {},
          "execution_count": 518
        }
      ]
    },
    {
      "cell_type": "code",
      "source": [
        "electronics['product_price'].quantile(percentiles)"
      ],
      "metadata": {
        "colab": {
          "base_uri": "https://localhost:8080/"
        },
        "id": "6ZLQ-xSYX3sM",
        "outputId": "3fd5606a-3c20-4a78-d66a-4fe172ec1e44"
      },
      "execution_count": 519,
      "outputs": [
        {
          "output_type": "execute_result",
          "data": {
            "text/plain": [
              "0.25    132.0\n",
              "0.50    254.0\n",
              "0.75    377.0\n",
              "0.90    451.0\n",
              "0.95    476.0\n",
              "0.99    495.0\n",
              "Name: product_price, dtype: float64"
            ]
          },
          "metadata": {},
          "execution_count": 519
        }
      ]
    },
    {
      "cell_type": "code",
      "source": [
        "books['product_price'].quantile(percentiles)"
      ],
      "metadata": {
        "colab": {
          "base_uri": "https://localhost:8080/"
        },
        "id": "gNMeZPRZYoji",
        "outputId": "9a6fa505-01e9-430a-9246-56c86292e319"
      },
      "execution_count": 520,
      "outputs": [
        {
          "output_type": "execute_result",
          "data": {
            "text/plain": [
              "0.25    132.0\n",
              "0.50    255.0\n",
              "0.75    377.0\n",
              "0.90    451.0\n",
              "0.95    476.0\n",
              "0.99    495.0\n",
              "Name: product_price, dtype: float64"
            ]
          },
          "metadata": {},
          "execution_count": 520
        }
      ]
    },
    {
      "cell_type": "code",
      "source": [
        "clothing['product_price'].quantile(percentiles)"
      ],
      "metadata": {
        "colab": {
          "base_uri": "https://localhost:8080/"
        },
        "id": "TH4MwkjUYtWQ",
        "outputId": "2f84313a-2e78-4d31-a417-bbcf9e9dda56"
      },
      "execution_count": 521,
      "outputs": [
        {
          "output_type": "execute_result",
          "data": {
            "text/plain": [
              "0.25    132.0\n",
              "0.50    254.0\n",
              "0.75    378.0\n",
              "0.90    450.0\n",
              "0.95    475.0\n",
              "0.99    495.0\n",
              "Name: product_price, dtype: float64"
            ]
          },
          "metadata": {},
          "execution_count": 521
        }
      ]
    },
    {
      "cell_type": "markdown",
      "source": [
        "Como as distribuições de preços são extremamente semelhantes, não é possível determinar uma categoria mais cara e mais barata, pois são todas praticamente iguais ao todo."
      ],
      "metadata": {
        "id": "Qa8nLxQS6hoT"
      }
    },
    {
      "cell_type": "markdown",
      "source": [
        "# 4) Qual o produto com melhor e pior NPS?"
      ],
      "metadata": {
        "id": "CHQw97Dy6le7"
      }
    },
    {
      "cell_type": "code",
      "source": [
        "db.groupby([\"product_category\", \"product_price\"])[\"nps\"].mean().round(3).reset_index().sort_values(by=\"nps\", ascending=False).filter(items=[\"product_category\", \"product_price\", \"nps\"])"
      ],
      "metadata": {
        "colab": {
          "base_uri": "https://localhost:8080/",
          "height": 444
        },
        "id": "5qm6fg2d7Uds",
        "outputId": "436cae4e-04df-447a-a253-6f269788670f"
      },
      "execution_count": 522,
      "outputs": [
        {
          "output_type": "execute_result",
          "data": {
            "text/plain": [
              "     product_category  product_price    nps\n",
              "1527             Home             64  6.157\n",
              "1482             Home             19  6.049\n",
              "1093      Electronics            121  6.021\n",
              "725          Clothing            244  5.880\n",
              "517          Clothing             36  5.864\n",
              "...               ...            ...    ...\n",
              "1406      Electronics            434  4.139\n",
              "1835             Home            372  4.130\n",
              "1446      Electronics            474  4.127\n",
              "1935             Home            472  4.106\n",
              "1044      Electronics             72  4.065\n",
              "\n",
              "[1964 rows x 3 columns]"
            ],
            "text/html": [
              "\n",
              "  <div id=\"df-9d3755b3-16cc-4f59-ae8c-23db8c77db0b\" class=\"colab-df-container\">\n",
              "    <div>\n",
              "<style scoped>\n",
              "    .dataframe tbody tr th:only-of-type {\n",
              "        vertical-align: middle;\n",
              "    }\n",
              "\n",
              "    .dataframe tbody tr th {\n",
              "        vertical-align: top;\n",
              "    }\n",
              "\n",
              "    .dataframe thead th {\n",
              "        text-align: right;\n",
              "    }\n",
              "</style>\n",
              "<table border=\"1\" class=\"dataframe\">\n",
              "  <thead>\n",
              "    <tr style=\"text-align: right;\">\n",
              "      <th></th>\n",
              "      <th>product_category</th>\n",
              "      <th>product_price</th>\n",
              "      <th>nps</th>\n",
              "    </tr>\n",
              "  </thead>\n",
              "  <tbody>\n",
              "    <tr>\n",
              "      <th>1527</th>\n",
              "      <td>Home</td>\n",
              "      <td>64</td>\n",
              "      <td>6.157</td>\n",
              "    </tr>\n",
              "    <tr>\n",
              "      <th>1482</th>\n",
              "      <td>Home</td>\n",
              "      <td>19</td>\n",
              "      <td>6.049</td>\n",
              "    </tr>\n",
              "    <tr>\n",
              "      <th>1093</th>\n",
              "      <td>Electronics</td>\n",
              "      <td>121</td>\n",
              "      <td>6.021</td>\n",
              "    </tr>\n",
              "    <tr>\n",
              "      <th>725</th>\n",
              "      <td>Clothing</td>\n",
              "      <td>244</td>\n",
              "      <td>5.880</td>\n",
              "    </tr>\n",
              "    <tr>\n",
              "      <th>517</th>\n",
              "      <td>Clothing</td>\n",
              "      <td>36</td>\n",
              "      <td>5.864</td>\n",
              "    </tr>\n",
              "    <tr>\n",
              "      <th>...</th>\n",
              "      <td>...</td>\n",
              "      <td>...</td>\n",
              "      <td>...</td>\n",
              "    </tr>\n",
              "    <tr>\n",
              "      <th>1406</th>\n",
              "      <td>Electronics</td>\n",
              "      <td>434</td>\n",
              "      <td>4.139</td>\n",
              "    </tr>\n",
              "    <tr>\n",
              "      <th>1835</th>\n",
              "      <td>Home</td>\n",
              "      <td>372</td>\n",
              "      <td>4.130</td>\n",
              "    </tr>\n",
              "    <tr>\n",
              "      <th>1446</th>\n",
              "      <td>Electronics</td>\n",
              "      <td>474</td>\n",
              "      <td>4.127</td>\n",
              "    </tr>\n",
              "    <tr>\n",
              "      <th>1935</th>\n",
              "      <td>Home</td>\n",
              "      <td>472</td>\n",
              "      <td>4.106</td>\n",
              "    </tr>\n",
              "    <tr>\n",
              "      <th>1044</th>\n",
              "      <td>Electronics</td>\n",
              "      <td>72</td>\n",
              "      <td>4.065</td>\n",
              "    </tr>\n",
              "  </tbody>\n",
              "</table>\n",
              "<p>1964 rows × 3 columns</p>\n",
              "</div>\n",
              "    <div class=\"colab-df-buttons\">\n",
              "\n",
              "  <div class=\"colab-df-container\">\n",
              "    <button class=\"colab-df-convert\" onclick=\"convertToInteractive('df-9d3755b3-16cc-4f59-ae8c-23db8c77db0b')\"\n",
              "            title=\"Convert this dataframe to an interactive table.\"\n",
              "            style=\"display:none;\">\n",
              "\n",
              "  <svg xmlns=\"http://www.w3.org/2000/svg\" height=\"24px\" viewBox=\"0 -960 960 960\">\n",
              "    <path d=\"M120-120v-720h720v720H120Zm60-500h600v-160H180v160Zm220 220h160v-160H400v160Zm0 220h160v-160H400v160ZM180-400h160v-160H180v160Zm440 0h160v-160H620v160ZM180-180h160v-160H180v160Zm440 0h160v-160H620v160Z\"/>\n",
              "  </svg>\n",
              "    </button>\n",
              "\n",
              "  <style>\n",
              "    .colab-df-container {\n",
              "      display:flex;\n",
              "      gap: 12px;\n",
              "    }\n",
              "\n",
              "    .colab-df-convert {\n",
              "      background-color: #E8F0FE;\n",
              "      border: none;\n",
              "      border-radius: 50%;\n",
              "      cursor: pointer;\n",
              "      display: none;\n",
              "      fill: #1967D2;\n",
              "      height: 32px;\n",
              "      padding: 0 0 0 0;\n",
              "      width: 32px;\n",
              "    }\n",
              "\n",
              "    .colab-df-convert:hover {\n",
              "      background-color: #E2EBFA;\n",
              "      box-shadow: 0px 1px 2px rgba(60, 64, 67, 0.3), 0px 1px 3px 1px rgba(60, 64, 67, 0.15);\n",
              "      fill: #174EA6;\n",
              "    }\n",
              "\n",
              "    .colab-df-buttons div {\n",
              "      margin-bottom: 4px;\n",
              "    }\n",
              "\n",
              "    [theme=dark] .colab-df-convert {\n",
              "      background-color: #3B4455;\n",
              "      fill: #D2E3FC;\n",
              "    }\n",
              "\n",
              "    [theme=dark] .colab-df-convert:hover {\n",
              "      background-color: #434B5C;\n",
              "      box-shadow: 0px 1px 3px 1px rgba(0, 0, 0, 0.15);\n",
              "      filter: drop-shadow(0px 1px 2px rgba(0, 0, 0, 0.3));\n",
              "      fill: #FFFFFF;\n",
              "    }\n",
              "  </style>\n",
              "\n",
              "    <script>\n",
              "      const buttonEl =\n",
              "        document.querySelector('#df-9d3755b3-16cc-4f59-ae8c-23db8c77db0b button.colab-df-convert');\n",
              "      buttonEl.style.display =\n",
              "        google.colab.kernel.accessAllowed ? 'block' : 'none';\n",
              "\n",
              "      async function convertToInteractive(key) {\n",
              "        const element = document.querySelector('#df-9d3755b3-16cc-4f59-ae8c-23db8c77db0b');\n",
              "        const dataTable =\n",
              "          await google.colab.kernel.invokeFunction('convertToInteractive',\n",
              "                                                    [key], {});\n",
              "        if (!dataTable) return;\n",
              "\n",
              "        const docLinkHtml = 'Like what you see? Visit the ' +\n",
              "          '<a target=\"_blank\" href=https://colab.research.google.com/notebooks/data_table.ipynb>data table notebook</a>'\n",
              "          + ' to learn more about interactive tables.';\n",
              "        element.innerHTML = '';\n",
              "        dataTable['output_type'] = 'display_data';\n",
              "        await google.colab.output.renderOutput(dataTable, element);\n",
              "        const docLink = document.createElement('div');\n",
              "        docLink.innerHTML = docLinkHtml;\n",
              "        element.appendChild(docLink);\n",
              "      }\n",
              "    </script>\n",
              "  </div>\n",
              "\n",
              "\n",
              "<div id=\"df-b5d197d6-7de6-4197-b94f-78bf01818556\">\n",
              "  <button class=\"colab-df-quickchart\" onclick=\"quickchart('df-b5d197d6-7de6-4197-b94f-78bf01818556')\"\n",
              "            title=\"Suggest charts\"\n",
              "            style=\"display:none;\">\n",
              "\n",
              "<svg xmlns=\"http://www.w3.org/2000/svg\" height=\"24px\"viewBox=\"0 0 24 24\"\n",
              "     width=\"24px\">\n",
              "    <g>\n",
              "        <path d=\"M19 3H5c-1.1 0-2 .9-2 2v14c0 1.1.9 2 2 2h14c1.1 0 2-.9 2-2V5c0-1.1-.9-2-2-2zM9 17H7v-7h2v7zm4 0h-2V7h2v10zm4 0h-2v-4h2v4z\"/>\n",
              "    </g>\n",
              "</svg>\n",
              "  </button>\n",
              "\n",
              "<style>\n",
              "  .colab-df-quickchart {\n",
              "      --bg-color: #E8F0FE;\n",
              "      --fill-color: #1967D2;\n",
              "      --hover-bg-color: #E2EBFA;\n",
              "      --hover-fill-color: #174EA6;\n",
              "      --disabled-fill-color: #AAA;\n",
              "      --disabled-bg-color: #DDD;\n",
              "  }\n",
              "\n",
              "  [theme=dark] .colab-df-quickchart {\n",
              "      --bg-color: #3B4455;\n",
              "      --fill-color: #D2E3FC;\n",
              "      --hover-bg-color: #434B5C;\n",
              "      --hover-fill-color: #FFFFFF;\n",
              "      --disabled-bg-color: #3B4455;\n",
              "      --disabled-fill-color: #666;\n",
              "  }\n",
              "\n",
              "  .colab-df-quickchart {\n",
              "    background-color: var(--bg-color);\n",
              "    border: none;\n",
              "    border-radius: 50%;\n",
              "    cursor: pointer;\n",
              "    display: none;\n",
              "    fill: var(--fill-color);\n",
              "    height: 32px;\n",
              "    padding: 0;\n",
              "    width: 32px;\n",
              "  }\n",
              "\n",
              "  .colab-df-quickchart:hover {\n",
              "    background-color: var(--hover-bg-color);\n",
              "    box-shadow: 0 1px 2px rgba(60, 64, 67, 0.3), 0 1px 3px 1px rgba(60, 64, 67, 0.15);\n",
              "    fill: var(--button-hover-fill-color);\n",
              "  }\n",
              "\n",
              "  .colab-df-quickchart-complete:disabled,\n",
              "  .colab-df-quickchart-complete:disabled:hover {\n",
              "    background-color: var(--disabled-bg-color);\n",
              "    fill: var(--disabled-fill-color);\n",
              "    box-shadow: none;\n",
              "  }\n",
              "\n",
              "  .colab-df-spinner {\n",
              "    border: 2px solid var(--fill-color);\n",
              "    border-color: transparent;\n",
              "    border-bottom-color: var(--fill-color);\n",
              "    animation:\n",
              "      spin 1s steps(1) infinite;\n",
              "  }\n",
              "\n",
              "  @keyframes spin {\n",
              "    0% {\n",
              "      border-color: transparent;\n",
              "      border-bottom-color: var(--fill-color);\n",
              "      border-left-color: var(--fill-color);\n",
              "    }\n",
              "    20% {\n",
              "      border-color: transparent;\n",
              "      border-left-color: var(--fill-color);\n",
              "      border-top-color: var(--fill-color);\n",
              "    }\n",
              "    30% {\n",
              "      border-color: transparent;\n",
              "      border-left-color: var(--fill-color);\n",
              "      border-top-color: var(--fill-color);\n",
              "      border-right-color: var(--fill-color);\n",
              "    }\n",
              "    40% {\n",
              "      border-color: transparent;\n",
              "      border-right-color: var(--fill-color);\n",
              "      border-top-color: var(--fill-color);\n",
              "    }\n",
              "    60% {\n",
              "      border-color: transparent;\n",
              "      border-right-color: var(--fill-color);\n",
              "    }\n",
              "    80% {\n",
              "      border-color: transparent;\n",
              "      border-right-color: var(--fill-color);\n",
              "      border-bottom-color: var(--fill-color);\n",
              "    }\n",
              "    90% {\n",
              "      border-color: transparent;\n",
              "      border-bottom-color: var(--fill-color);\n",
              "    }\n",
              "  }\n",
              "</style>\n",
              "\n",
              "  <script>\n",
              "    async function quickchart(key) {\n",
              "      const quickchartButtonEl =\n",
              "        document.querySelector('#' + key + ' button');\n",
              "      quickchartButtonEl.disabled = true;  // To prevent multiple clicks.\n",
              "      quickchartButtonEl.classList.add('colab-df-spinner');\n",
              "      try {\n",
              "        const charts = await google.colab.kernel.invokeFunction(\n",
              "            'suggestCharts', [key], {});\n",
              "      } catch (error) {\n",
              "        console.error('Error during call to suggestCharts:', error);\n",
              "      }\n",
              "      quickchartButtonEl.classList.remove('colab-df-spinner');\n",
              "      quickchartButtonEl.classList.add('colab-df-quickchart-complete');\n",
              "    }\n",
              "    (() => {\n",
              "      let quickchartButtonEl =\n",
              "        document.querySelector('#df-b5d197d6-7de6-4197-b94f-78bf01818556 button');\n",
              "      quickchartButtonEl.style.display =\n",
              "        google.colab.kernel.accessAllowed ? 'block' : 'none';\n",
              "    })();\n",
              "  </script>\n",
              "</div>\n",
              "\n",
              "    </div>\n",
              "  </div>\n"
            ],
            "application/vnd.google.colaboratory.intrinsic+json": {
              "type": "dataframe",
              "summary": "{\n  \"name\": \"db\",\n  \"rows\": 1964,\n  \"fields\": [\n    {\n      \"column\": \"product_category\",\n      \"properties\": {\n        \"dtype\": \"category\",\n        \"num_unique_values\": 4,\n        \"samples\": [\n          \"Electronics\",\n          \"Books\",\n          \"Home\"\n        ],\n        \"semantic_type\": \"\",\n        \"description\": \"\"\n      }\n    },\n    {\n      \"column\": \"product_price\",\n      \"properties\": {\n        \"dtype\": \"number\",\n        \"std\": 141,\n        \"min\": 10,\n        \"max\": 500,\n        \"num_unique_values\": 491,\n        \"samples\": [\n          128,\n          304,\n          397\n        ],\n        \"semantic_type\": \"\",\n        \"description\": \"\"\n      }\n    },\n    {\n      \"column\": \"nps\",\n      \"properties\": {\n        \"dtype\": \"number\",\n        \"std\": 0.28827421450728424,\n        \"min\": 4.065,\n        \"max\": 6.157,\n        \"num_unique_values\": 898,\n        \"samples\": [\n          5.115,\n          4.771,\n          5.124\n        ],\n        \"semantic_type\": \"\",\n        \"description\": \"\"\n      }\n    }\n  ]\n}"
            }
          },
          "metadata": {},
          "execution_count": 522
        }
      ]
    },
    {
      "cell_type": "markdown",
      "source": [
        "Produto com melhor NPS: produto da categoria casa de valor 64 com NPS médio de 6,157"
      ],
      "metadata": {
        "id": "yoc82R798-3U"
      }
    },
    {
      "cell_type": "markdown",
      "source": [
        "Produto com pior NPS: produto da categoria de eletrônicos de valor 64 com NPS médio de 4,065"
      ],
      "metadata": {
        "id": "OFLaMPQW9JN2"
      }
    },
    {
      "cell_type": "markdown",
      "source": [
        "# Analisando a base de dados, qual o tipo de público (considerando gênero e idade) e o canal ideal para vender determinado tipo de produto?"
      ],
      "metadata": {
        "id": "2qoeyfs_-qMG"
      }
    },
    {
      "cell_type": "markdown",
      "source": [
        "Primeiramente irei verificar o tipo de distribuição de faxas etárias para checar se há faixas etárias mais prevalecentes."
      ],
      "metadata": {
        "id": "C3LL25b_7zE8"
      }
    },
    {
      "cell_type": "code",
      "source": [
        "plt.figure(figsize=(10,6))\n",
        "plot = sns.histplot(data=db, x='age_group', hue='gender', multiple='dodge', palette={'Male': '#2a3bd4', 'Female': '#d63a85'})\n",
        "plt.title('Distribuição de idades dos clientes por gênero')\n",
        "plt.xlabel('Faixas etárias')\n",
        "plt.ylabel('Frequência')\n",
        "plt.grid(True)\n",
        "for i in plot.containers:\n",
        "    plot.bar_label(i)\n",
        "plt.show()"
      ],
      "metadata": {
        "colab": {
          "base_uri": "https://localhost:8080/",
          "height": 585
        },
        "id": "oP3pMsZz11Km",
        "outputId": "0c138206-43bb-469a-d3ca-0b13d09b32ef"
      },
      "execution_count": 531,
      "outputs": [
        {
          "output_type": "display_data",
          "data": {
            "text/plain": [
              "<Figure size 1000x600 with 1 Axes>"
            ],
            "image/png": "[encoded data removed]"
          },
          "metadata": {}
        }
      ]
    },
    {
      "cell_type": "markdown",
      "source": [
        "Não é possível determinar um público alvo geral pois a distribuição é muito uniforme entre ambos gêneros e faixas etárias."
      ],
      "metadata": {
        "id": "toZLg5q79D1m"
      }
    },
    {
      "cell_type": "markdown",
      "source": [
        "\n",
        "\n",
        "\n",
        "# E o canal ideal para vender cada produto?"
      ],
      "metadata": {
        "id": "WN4LeQb8rXxu"
      }
    },
    {
      "cell_type": "code",
      "source": [
        "plt.figure(figsize=(10,6))\n",
        "plot = sns.histplot(data=db, x='source', hue='product_category', multiple='dodge', palette='viridis')\n",
        "plt.title('Vendas por fonte e categoria')\n",
        "plt.xlabel('Fontes')\n",
        "plt.ylabel('Vendas')\n",
        "plt.grid(True)\n",
        "for i in plot.containers:\n",
        "    plot.bar_label(i, rotation=45)\n",
        "plt.show()"
      ],
      "metadata": {
        "colab": {
          "base_uri": "https://localhost:8080/",
          "height": 584
        },
        "id": "GtPgrWxNsCAS",
        "outputId": "a3a419f0-5d2d-4e38-8d58-c093c9c98cc2"
      },
      "execution_count": 532,
      "outputs": [
        {
          "output_type": "display_data",
          "data": {
            "text/plain": [
              "<Figure size 1000x600 with 1 Axes>"
            ],
            "image/png": "[encoded data removed]"
          },
          "metadata": {}
        }
      ]
    },
    {
      "cell_type": "markdown",
      "source": [
        "Podemos ver que apenas pesquisa ôrganica fica abaixo das outras fontes, que tem, entre si, desempenho bastante similar para cada categoria. Portanto também não é possível determinar um canal ideal"
      ],
      "metadata": {
        "id": "sK2RyVWpve9N"
      }
    },
    {
      "cell_type": "code",
      "source": [
        "plt.figure(figsize=(10,6))\n",
        "plot = sns.histplot(data=db, x='product_category', hue='source', multiple='dodge', palette='viridis')\n",
        "plt.title('Vendas por fonte e categoria')\n",
        "plt.xlabel('Fontes')\n",
        "plt.ylabel('Vendas')\n",
        "plt.grid(True)\n",
        "for i in plot.containers:\n",
        "    plot.bar_label(i, rotation=45)\n",
        "plt.show()"
      ],
      "metadata": {
        "colab": {
          "base_uri": "https://localhost:8080/",
          "height": 584
        },
        "id": "zH0Y7g5xv83H",
        "outputId": "f7ef4d17-262d-4bea-fe23-44e04770316d"
      },
      "execution_count": 533,
      "outputs": [
        {
          "output_type": "display_data",
          "data": {
            "text/plain": [
              "<Figure size 1000x600 with 1 Axes>"
            ],
            "image/png": "[encoded data removed]"
          },
          "metadata": {}
        }
      ]
    },
    {
      "cell_type": "markdown",
      "source": [
        "Fazendo o gráfico trocando fonte por categoria de produto, podemos ver mais claramente que também não há muita diferença de desempenho entre as 3 melhores fontes para cada categoria, mas que o instagram tem um desempenho levemente superior que as outras duas."
      ],
      "metadata": {
        "id": "goQTqY6CwSa_"
      }
    },
    {
      "cell_type": "markdown",
      "source": [
        "# Conclusões\n",
        "\n",
        "A distribuição não permite que determinemos público alvo considerando gênero e idade devido à uniformidade da distribuição, e nem canal ideal, devido ao desempenho muito semelhante entre instagram, SEM e facebook.\n",
        "\n",
        "O único insight verdadeiramente útil que conseguimos extrair dessa análise é que o gráfico de volume de vendas por categoria mostra claramente que as categorias de livros e roupas são as que tem maior sucesso."
      ],
      "metadata": {
        "id": "ux6uhtpNw2kb"
      }
    }
  ]
}